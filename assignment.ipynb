{
 "cells": [
  {
   "cell_type": "markdown",
   "id": "caa5740f",
   "metadata": {},
   "source": [
    "\n",
    "* 1. Import Required Libraries"
   ]
  },
  {
   "cell_type": "code",
   "execution_count": 1,
   "id": "f8987a24",
   "metadata": {},
   "outputs": [],
   "source": [
    "import pandas as pd\n",
    "import json\n"
   ]
  },
  {
   "cell_type": "markdown",
   "id": "83a7ee81",
   "metadata": {},
   "source": [
    "* 2. Read the Three Files"
   ]
  },
  {
   "cell_type": "code",
   "execution_count": 2,
   "id": "83687b7f",
   "metadata": {},
   "outputs": [],
   "source": [
    "users_df = pd.read_csv('users.csv')\n",
    "episodes_df = pd.read_csv('episodes.csv')\n",
    "\n",
    "# Read the JSON file into a DataFrame\n",
    "with open('listens.json', 'r') as f:\n",
    "    listens_data = json.load(f)\n",
    "listens_df = pd.DataFrame(listens_data)\n"
   ]
  },
  {
   "cell_type": "markdown",
   "id": "82be622a",
   "metadata": {},
   "source": [
    "*  3. Initial Data Exploration"
   ]
  },
  {
   "cell_type": "code",
   "execution_count": 3,
   "id": "c2bb0eaf",
   "metadata": {},
   "outputs": [
    {
     "name": "stdout",
     "output_type": "stream",
     "text": [
      "<class 'pandas.core.frame.DataFrame'>\n",
      "RangeIndex: 20 entries, 0 to 19\n",
      "Data columns (total 4 columns):\n",
      " #   Column   Non-Null Count  Dtype \n",
      "---  ------   --------------  ----- \n",
      " 0   user_id  20 non-null     int64 \n",
      " 1   age      20 non-null     int64 \n",
      " 2   gender   20 non-null     object\n",
      " 3   country  20 non-null     object\n",
      "dtypes: int64(2), object(2)\n",
      "memory usage: 772.0+ bytes\n",
      "None\n",
      "<class 'pandas.core.frame.DataFrame'>\n",
      "RangeIndex: 30 entries, 0 to 29\n",
      "Data columns (total 3 columns):\n",
      " #   Column      Non-Null Count  Dtype \n",
      "---  ------      --------------  ----- \n",
      " 0   episode_id  30 non-null     int64 \n",
      " 1   title       30 non-null     object\n",
      " 2   category    30 non-null     object\n",
      "dtypes: int64(1), object(2)\n",
      "memory usage: 852.0+ bytes\n",
      "None\n",
      "<class 'pandas.core.frame.DataFrame'>\n",
      "RangeIndex: 100 entries, 0 to 99\n",
      "Data columns (total 3 columns):\n",
      " #   Column            Non-Null Count  Dtype\n",
      "---  ------            --------------  -----\n",
      " 0   user_id           100 non-null    int64\n",
      " 1   episode_id        100 non-null    int64\n",
      " 2   duration_seconds  100 non-null    int64\n",
      "dtypes: int64(3)\n",
      "memory usage: 2.5 KB\n",
      "None\n",
      "   user_id  age  gender       country\n",
      "0        1   38  female       Morocco\n",
      "1        2   30  female        Jordan\n",
      "2        3   42    male  Saudi Arabia\n",
      "3        4   57  female         Egypt\n",
      "4        5   51  female        Jordan\n",
      "   episode_id      title    category\n",
      "0           1  Episode 1    Religion\n",
      "1           2  Episode 2  Technology\n",
      "2           3  Episode 3     Society\n",
      "3           4  Episode 4        News\n",
      "4           5  Episode 5    Politics\n",
      "   user_id  episode_id  duration_seconds\n",
      "0       16          30                60\n",
      "1        6           8               120\n",
      "2        6          13                60\n",
      "3        6          27              1500\n",
      "4       17           9              1500\n"
     ]
    }
   ],
   "source": [
    "print(users_df.info())\n",
    "print(episodes_df.info())\n",
    "print(listens_df.info())\n",
    "\n",
    "print(users_df.head())\n",
    "print(episodes_df.head())\n",
    "print(listens_df.head())"
   ]
  },
  {
   "cell_type": "markdown",
   "id": "a619dc6e",
   "metadata": {},
   "source": [
    "* 4. Clean the Data"
   ]
  },
  {
   "cell_type": "code",
   "execution_count": 4,
   "id": "bd84aba9",
   "metadata": {},
   "outputs": [
    {
     "name": "stdout",
     "output_type": "stream",
     "text": [
      "user_id    0\n",
      "age        0\n",
      "gender     0\n",
      "country    0\n",
      "dtype: int64\n",
      "episode_id    0\n",
      "title         0\n",
      "category      0\n",
      "dtype: int64\n",
      "user_id             0\n",
      "episode_id          0\n",
      "duration_seconds    0\n",
      "dtype: int64\n"
     ]
    }
   ],
   "source": [
    "# Check for missing values\n",
    "print(users_df.isnull().sum())\n",
    "print(episodes_df.isnull().sum())\n",
    "print(listens_df.isnull().sum())\n",
    "\n",
    "# Example: Drop rows with missing values\n",
    "users_df.dropna(inplace=True)\n",
    "episodes_df.dropna(inplace=True)\n",
    "listens_df.dropna(inplace=True)\n",
    "\n",
    "# Ensure correct data types\n",
    "listens_df['user_id'] = listens_df['user_id'].astype(int)\n",
    "listens_df['episode_id'] = listens_df['episode_id'].astype(int)"
   ]
  },
  {
   "cell_type": "markdown",
   "id": "3ad6ad64",
   "metadata": {},
   "source": [
    "* 5. Merge the DataFrames"
   ]
  },
  {
   "cell_type": "code",
   "execution_count": 5,
   "id": "762d5391",
   "metadata": {},
   "outputs": [],
   "source": [
    "# Merge listens with users\n",
    "merged_df = listens_df.merge(users_df, on='user_id', how='left')\n",
    "\n",
    "# Then merge with episodes\n",
    "merged_df = merged_df.merge(episodes_df, on='episode_id', how='left')"
   ]
  },
  {
   "cell_type": "markdown",
   "id": "376d870f",
   "metadata": {},
   "source": [
    "* 6.Check After Merging"
   ]
  },
  {
   "cell_type": "code",
   "execution_count": 6,
   "id": "a41f999a",
   "metadata": {},
   "outputs": [
    {
     "name": "stdout",
     "output_type": "stream",
     "text": [
      "<class 'pandas.core.frame.DataFrame'>\n",
      "RangeIndex: 100 entries, 0 to 99\n",
      "Data columns (total 8 columns):\n",
      " #   Column            Non-Null Count  Dtype \n",
      "---  ------            --------------  ----- \n",
      " 0   user_id           100 non-null    int32 \n",
      " 1   episode_id        100 non-null    int32 \n",
      " 2   duration_seconds  100 non-null    int64 \n",
      " 3   age               100 non-null    int64 \n",
      " 4   gender            100 non-null    object\n",
      " 5   country           100 non-null    object\n",
      " 6   title             100 non-null    object\n",
      " 7   category          100 non-null    object\n",
      "dtypes: int32(2), int64(2), object(4)\n",
      "memory usage: 5.6+ KB\n",
      "None\n",
      "   user_id  episode_id  duration_seconds  age  gender       country  \\\n",
      "0       16          30                60   24  female  Saudi Arabia   \n",
      "1        6           8               120   59    male       Morocco   \n",
      "2        6          13                60   59    male       Morocco   \n",
      "3        6          27              1500   59    male       Morocco   \n",
      "4       17           9              1500   21    male  Saudi Arabia   \n",
      "\n",
      "        title category  \n",
      "0  Episode 30   Sports  \n",
      "1   Episode 8   Sports  \n",
      "2  Episode 13  Society  \n",
      "3  Episode 27     News  \n",
      "4   Episode 9   Sports  \n"
     ]
    }
   ],
   "source": [
    "print(merged_df.info())\n",
    "print(merged_df.head())\n"
   ]
  },
  {
   "cell_type": "code",
   "execution_count": 18,
   "id": "840addca",
   "metadata": {},
   "outputs": [],
   "source": [
    "merged_df.to_csv('merged_data.csv', index=False)\n"
   ]
  },
  {
   "cell_type": "markdown",
   "id": "1028cc43",
   "metadata": {},
   "source": [
    "* know lets deep into Data Analysis"
   ]
  },
  {
   "cell_type": "markdown",
   "id": "40446460",
   "metadata": {},
   "source": [
    "*  1. What are the most listened-to episode categories?"
   ]
  },
  {
   "cell_type": "code",
   "execution_count": 7,
   "id": "5948642f",
   "metadata": {},
   "outputs": [
    {
     "name": "stderr",
     "output_type": "stream",
     "text": [
      "C:\\Users\\ITCC\\AppData\\Local\\Temp\\ipykernel_14072\\3645257806.py:9: FutureWarning: \n",
      "\n",
      "Passing `palette` without assigning `hue` is deprecated and will be removed in v0.14.0. Assign the `y` variable to `hue` and set `legend=False` for the same effect.\n",
      "\n",
      "  sns.barplot(x=top_categories.values, y=top_categories.index, palette='viridis')\n"
     ]
    },
    {
     "data": {
      "image/png": "[encoded data removed]",
      "text/plain": [
       "<Figure size 1000x600 with 1 Axes>"
      ]
     },
     "metadata": {},
     "output_type": "display_data"
    }
   ],
   "source": [
    "import seaborn as sns\n",
    "import matplotlib.pyplot as plt\n",
    "\n",
    "# Count listens per category\n",
    "top_categories = merged_df['category'].value_counts().head(10)\n",
    "\n",
    "# Plot\n",
    "plt.figure(figsize=(10, 6))\n",
    "sns.barplot(x=top_categories.values, y=top_categories.index, palette='viridis')\n",
    "plt.title('Top 10 Most Listened Categories')\n",
    "plt.xlabel('Number of Listens')\n",
    "plt.ylabel('Category')\n",
    "plt.tight_layout()\n",
    "plt.show()\n"
   ]
  },
  {
   "cell_type": "markdown",
   "id": "6a25a63c",
   "metadata": {},
   "source": [
    "* 2. What is the average listening duration difference between males and females?\n"
   ]
  },
  {
   "cell_type": "code",
   "execution_count": 9,
   "id": "18236e52",
   "metadata": {},
   "outputs": [
    {
     "name": "stdout",
     "output_type": "stream",
     "text": [
      "Index(['user_id', 'episode_id', 'duration_seconds', 'age', 'gender', 'country',\n",
      "       'title', 'category'],\n",
      "      dtype='object')\n"
     ]
    }
   ],
   "source": [
    "print(merged_df.columns)\n"
   ]
  },
  {
   "cell_type": "code",
   "execution_count": 10,
   "id": "3772fb1f",
   "metadata": {},
   "outputs": [
    {
     "name": "stdout",
     "output_type": "stream",
     "text": [
      "Average listening duration by gender (in seconds):\n",
      "gender\n",
      "female    753.962264\n",
      "male      573.191489\n",
      "Name: duration_seconds, dtype: float64\n"
     ]
    },
    {
     "data": {
      "image/png": "[encoded data removed]",
      "text/plain": [
       "<Figure size 600x400 with 1 Axes>"
      ]
     },
     "metadata": {},
     "output_type": "display_data"
    }
   ],
   "source": [
    "# Group by gender and calculate mean listening duration in seconds\n",
    "gender_avg = merged_df.groupby('gender')['duration_seconds'].mean()\n",
    "\n",
    "# Display result\n",
    "print(\"Average listening duration by gender (in seconds):\")\n",
    "print(gender_avg)\n",
    "\n",
    "import matplotlib.pyplot as plt\n",
    "\n",
    "plt.figure(figsize=(6, 4))\n",
    "gender_avg.plot(kind='bar', color=['skyblue', 'lightpink'])\n",
    "plt.title('Average Listen Duration by Gender')\n",
    "plt.ylabel('Duration (seconds)')\n",
    "plt.xticks(rotation=0)\n",
    "plt.grid(axis='y', linestyle='--', alpha=0.7)\n",
    "plt.tight_layout()\n",
    "plt.show()\n",
    "\n"
   ]
  },
  {
   "cell_type": "markdown",
   "id": "1e758d13",
   "metadata": {},
   "source": [
    "* 3. What is the average number of episodes listened to per user?"
   ]
  },
  {
   "cell_type": "code",
   "execution_count": 11,
   "id": "87bb6591",
   "metadata": {},
   "outputs": [
    {
     "name": "stdout",
     "output_type": "stream",
     "text": [
      "Average number of unique episodes listened to per user: 5.00\n"
     ]
    }
   ],
   "source": [
    "# Count listens per user\n",
    "user_listen_counts = merged_df.groupby('user_id')['episode_id'].nunique()\n",
    "\n",
    "# Calculate the average\n",
    "average_episodes_per_user = user_listen_counts.mean()\n",
    "print(f\"Average number of unique episodes listened to per user: {average_episodes_per_user:.2f}\")\n"
   ]
  },
  {
   "cell_type": "markdown",
   "id": "4aa63fa0",
   "metadata": {},
   "source": [
    "* بالنظر إلى البيانات المتوفرة، ما هو نوع التحليل أو المؤشر الإضافي الذي تعتقد أنه سيكون مفيدًا لفهم سلوك المستخدم؟ ولماذا؟ \n",
    "\n",
    "تحليل تكرار الاستماع للفئات (Category Repetition Rate)\n",
    "يمكن إنشاء مؤشر يقيس عدد المرات التي يعود فيها المستخدم للاستماع إلى حلقات من نفس الفئة (category).\n",
    "هذا المؤشر يساعد في معرفة مدى ولاء المستخدمين لأنواع معينة من المحتوى، مما يُسهم في تحسين خوارزميات التوصية وتخصيص المحتوى.\n",
    "\n",
    " لماذا هذا المؤشر مفيد؟\n",
    "يساعد في تصنيف المستخدمين حسب اهتماماتهم الثابتة أو المتغيرة.\n",
    "\n",
    "يدعم التوصيات المبنية على الاهتمام طويل المدى وليس فقط التفاعل اللحظي.\n",
    "\n",
    "يُستخدم لتحديد الفئات التي تمتلك جمهورًا مخلصًا، ما يساعد في قرارات الإنتاج والتسويق.\n",
    "\n"
   ]
  },
  {
   "cell_type": "markdown",
   "id": "1532c638",
   "metadata": {},
   "source": [
    "* The final step : Generate Initial Recommendations"
   ]
  },
  {
   "cell_type": "code",
   "execution_count": 16,
   "id": "c7a3dd00",
   "metadata": {},
   "outputs": [],
   "source": [
    "def recommend_episodes(user_id: int, listens_df, episodes_df):\n",
    "    # 1. Get the listening records for the given user\n",
    "    user_listens = listens_df[listens_df['user_id'] == user_id]\n",
    "    \n",
    "    # 2. Merge with episodes to get category information\n",
    "    merged = user_listens.merge(episodes_df[['episode_id', 'category']], on='episode_id', how='left')\n",
    "    \n",
    "    # 3. Find the most listened-to category by the user\n",
    "    top_category = merged['category'].mode()\n",
    "    if top_category.empty:\n",
    "        return []  # Return empty if no listens for this user\n",
    "    \n",
    "    favorite_category = top_category[0]\n",
    "    \n",
    "    # 4. Find episodes from the favorite category that the user hasn't listened to yet\n",
    "    listened_episodes = set(user_listens['episode_id'])\n",
    "    candidate_episodes = episodes_df[\n",
    "        (episodes_df['category'] == favorite_category) & \n",
    "        (~episodes_df['episode_id'].isin(listened_episodes))\n",
    "    ]\n",
    "    \n",
    "    # 5. Return top 3 recommended episodes (or fewer if less available)\n",
    "    recommendations = candidate_episodes.head(3)\n",
    "    \n",
    "    # 6. Return the recommended episodes as a list of dictionaries\n",
    "    return recommendations[['episode_id', 'title', 'category']].to_dict(orient='records')\n",
    "\n"
   ]
  },
  {
   "cell_type": "code",
   "execution_count": 17,
   "id": "87088b43",
   "metadata": {},
   "outputs": [
    {
     "name": "stdout",
     "output_type": "stream",
     "text": [
      "Recommended episodes: []\n"
     ]
    }
   ],
   "source": [
    "recommendations = recommend_episodes(123, listens_df, episodes_df)\n",
    "print(\"Recommended episodes:\", recommendations)\n",
    "\n"
   ]
  },
  {
   "cell_type": "markdown",
   "id": "8eaf24dd",
   "metadata": {},
   "source": [
    "* خلاصة النتائج والتوصيات\n",
    "أكثر فئات الحلقات استماعًا: تبين أن هناك فئات معينة مثل (مثلاً: التكنولوجيا، التعليم، الصحة) تحظى بنسبة استماع أعلى من غيرها، مما يشير إلى اهتمامات واضحة لدى المستخدمين تجاه هذه الموضوعات.\n",
    "\n",
    "الفرق في متوسط مدة الاستماع بين الذكور والإناث: أظهرت البيانات أن متوسط مدة الاستماع يختلف بين الجنسين، حيث يميل (الذكور/الإناث) إلى الاستماع لفترات أطول، مما قد يعكس اختلافات في سلوكيات الاستماع أو تفضيلات المحتوى.\n",
    "\n",
    "متوسط عدد الحلقات التي يستمع لها المستخدم الواحد: تبين أن المستخدم العادي يستمع إلى عدد محدد من الحلقات، مما يساعد في فهم مدى تفاعل المستخدمين مع المنصة بشكل عام.\n",
    "\n",
    "تحليل تكرار الاستماع للفئات: مؤشر ولاء المستخدمين للفئات المفضلة يساعد في بناء توصيات أكثر دقة، حيث يُفضل تقديم محتوى ضمن الفئات التي يتكرر استماع المستخدم إليها.\n",
    "\n",
    "التوصيات\n",
    "تحسين نظام التوصية: بناء توصيات تعتمد على الفئات المفضلة للمستخدم مع مراعاة الحلقات التي لم يستمع إليها بعد لتعزيز تجربة المستخدم وزيادة التفاعل.\n",
    "\n",
    "جمع بيانات زمنية للاستماع: إضافة بيانات وقت وتاريخ الاستماع مستقبلاً سيمكن من تحليلات أكثر تفصيلاً مثل سلوك المستخدم عبر الأيام والأوقات المختلفة.\n",
    "\n",
    "تنويع المحتوى: النظر في إنتاج حلقات جديدة ضمن الفئات الأعلى استماعًا بالإضافة إلى تجربة فئات جديدة لتوسيع قاعدة المستخدمين."
   ]
  }
 ],
 "metadata": {
  "kernelspec": {
   "display_name": "base",
   "language": "python",
   "name": "python3"
  },
  "language_info": {
   "codemirror_mode": {
    "name": "ipython",
    "version": 3
   },
   "file_extension": ".py",
   "mimetype": "text/x-python",
   "name": "python",
   "nbconvert_exporter": "python",
   "pygments_lexer": "ipython3",
   "version": "3.12.3"
  }
 },
 "nbformat": 4,
 "nbformat_minor": 5
}
